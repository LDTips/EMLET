{
 "cells": [
  {
   "metadata": {},
   "cell_type": "markdown",
   "source": [
    "# Introduction\n",
    "The aim is to implement a ML solution that will perform better than the provided example jupyter notebook that utilises basic logistic regression from the scikit module. The data was scaled and then fit into that model. The following results were obtained:\n",
    "# LogisticRegression\n",
    "## LogisticRegression (34 classes)\n",
    "accuracy_score:  0.802\\\n",
    "recall_score:  0.595\\\n",
    "precision_score:  0.487\\\n",
    "f1_score:  0.494\n",
    "\n",
    "## LogisticRegression (8 classes)\n",
    "accuracy_score =  0.832\\\n",
    "recall_score =  0.696\\\n",
    "precision_score =  0.512\\\n",
    "f1_score =  0.539\n",
    "\n",
    "## LogisticRegression (2 classes)\n",
    "accuracy_score:  0.989\\\n",
    "recall_score:  0.890\\\n",
    "precision_score:  0.864\\\n",
    "f1_score:  0.877\n",
    "\n",
    "# SGD\n",
    "## SGD (34 classes)\n",
    "accuracy_score:  0.7860381477619159\n",
    "recall_score:  0.5179118961920882\n",
    "precision_score:  0.42184457529453795\n",
    "f1_score:  0.4256465870416849\n",
    "\n",
    "## SGD (8 classes)\n",
    "accuracy_score =  0.8226369976250854\n",
    "recall_score =  0.68058577451911\n",
    "precision_score =  0.4617525150801485\n",
    "f1_score =  0.49719100438594754\n",
    "\n",
    "## SGD (2 classes)\n",
    "accuracy_score:  0.9868773803425305\n",
    "recall_score:  0.8686111308207715\n",
    "precision_score:  0.8334084807767805\n",
    "f1_score:  0.8500759333973384\n",
    "\n",
    "\n",
    "It is worth noting that good accuracy score in this case is not a good metric due to high amount of malicious packet data compared to benign. To combat that, it is better to look at score metrics such as recall, precision and f1. Furthermore, duplication of benign entries is an option, but might not be a correct option due to the actual nature of DDoS attacks having very big amount of packets compared to normal benign traffic."
   ],
   "id": "a5b022abca638b7f"
  },
  {
   "cell_type": "markdown",
   "source": [
    "# Coding\n",
    "## Importing packages and dataset"
   ],
   "metadata": {
    "collapsed": false
   },
   "id": "3efd98ab4f82110b"
  },
  {
   "metadata": {
    "ExecuteTime": {
     "end_time": "2024-06-03T13:34:02.804797200Z",
     "start_time": "2024-06-03T13:34:02.792796100Z"
    }
   },
   "cell_type": "code",
   "source": [
    "import pandas as pd\n",
    "import numpy as np\n",
    "import os\n",
    "from tqdm.autonotebook import tqdm\n",
    "import warnings\n",
    "warnings.filterwarnings('ignore')\n",
    "DATASET_DIR = r'../CICIoT2023'"
   ],
   "id": "initial_id",
   "outputs": [],
   "execution_count": 37
  },
  {
   "metadata": {
    "ExecuteTime": {
     "end_time": "2024-06-03T13:34:02.835849200Z",
     "start_time": "2024-06-03T13:34:02.814848800Z"
    }
   },
   "cell_type": "code",
   "source": [
    "df_sets = [DATASET_DIR + '/' + k for k in os.listdir(DATASET_DIR) if k.endswith('.csv')]\n",
    "df_sets.sort()\n",
    "# Data is too large to parse as a single pd\n",
    "index_range = range(len(df_sets))\n",
    "import random\n",
    "SEED = 42  # Set to None for randomness\n",
    "if SEED:\n",
    "    random.seed(SEED)\n",
    "    print(f\"INFO: Using seed {SEED}\")\n",
    "else:\n",
    "    print(f\"Using random seed\")\n",
    "CLASSES = 2 ## Valid values are 34, 7 or 2\n",
    "if CLASSES not in (34, 7, 2):\n",
    "    print(\"Please set a valid number of classes (34, 7, 2)\")\n",
    "    exit(1)\n",
    "else:\n",
    "    print(f\"INFO: Using {CLASSES} classes\")\n",
    "# Manual train/test splitting\n",
    "test_indexes_count = int(len(df_sets)*0.2)\n",
    "train_indexes_count = int(len(df_sets)*0.8)\n",
    "test_indexes = random.sample(index_range, test_indexes_count)\n",
    "train_indexes = [i for i in index_range if i not in test_indexes]\n",
    "test_data, train_data = [], []\n",
    "print(test_indexes)\n",
    "X_columns = [\n",
    "    'flow_duration', 'Header_Length', 'Protocol Type', 'Duration',\n",
    "    'Rate', 'Srate', 'Drate', 'fin_flag_number', 'syn_flag_number',\n",
    "    'rst_flag_number', 'psh_flag_number', 'ack_flag_number',\n",
    "    'ece_flag_number', 'cwr_flag_number', 'ack_count',\n",
    "    'syn_count', 'fin_count', 'urg_count', 'rst_count', \n",
    "    'HTTP', 'HTTPS', 'DNS', 'Telnet', 'SMTP', 'SSH', 'IRC', 'TCP',\n",
    "    'UDP', 'DHCP', 'ARP', 'ICMP', 'IPv', 'LLC', 'Tot sum', 'Min',\n",
    "    'Max', 'AVG', 'Std', 'Tot size', 'IAT', 'Number', 'Magnitue',\n",
    "    'Radius', 'Covariance', 'Variance', 'Weight', \n",
    "]\n",
    "y_column = 'label'\n",
    "DROP_COLS = ['SMTP', 'Drate', 'IRC', 'DHCP', 'Telnet', 'ece_flag_number', 'cwr_flag_number', 'ARP', 'IPv', 'LLC', 'DNS', 'fin_flag_number', 'syn_flag_number', 'rst_flag_number', 'ICMP', 'HTTP', 'psh_flag_number']"
   ],
   "id": "6aa1186881b995ad",
   "outputs": [
    {
     "name": "stdout",
     "output_type": "stream",
     "text": [
      "INFO: Using seed 42\n",
      "INFO: Using 2 classes\n",
      "[163, 28, 6, 70, 62, 57, 35, 26, 139, 22, 151, 108, 8, 7, 23, 55, 59, 129, 166, 143, 50, 160, 107, 56, 114, 71, 1, 40, 157, 87, 149, 39, 153]\n"
     ]
    }
   ],
   "execution_count": 38
  },
  {
   "cell_type": "markdown",
   "source": [
    "## Scaling the data"
   ],
   "metadata": {
    "collapsed": false
   },
   "id": "8d152f068c80c6c6"
  },
  {
   "metadata": {
    "ExecuteTime": {
     "end_time": "2024-06-03T13:34:02.851849300Z",
     "start_time": "2024-06-03T13:34:02.839849400Z"
    }
   },
   "cell_type": "code",
   "source": [
    "from sklearn.preprocessing import StandardScaler\n",
    "import joblib\n",
    "scaler_filename = f\"precomputed/scaler-{SEED}.save\"\n",
    "\n",
    "if os.path.exists(scaler_filename):\n",
    "    scaler = joblib.load(scaler_filename) \n",
    "else:\n",
    "    scaler = StandardScaler()\n",
    "    for train_set in tqdm(train_indexes):\n",
    "        a = pd.read_csv(df_sets[train_set])\n",
    "        a.drop(columns=DROP_COLS)\n",
    "        scaler.fit(a[X_columns])\n",
    "\n",
    "    joblib.dump(scaler, scaler_filename)\n",
    "\n",
    "count = 37616542"
   ],
   "id": "1f9eaece35701381",
   "outputs": [],
   "execution_count": 39
  },
  {
   "cell_type": "markdown",
   "source": [
    "## Initialise pytorch and check if GPU is available"
   ],
   "metadata": {
    "collapsed": false
   },
   "id": "42265f56f2e93eb9"
  },
  {
   "cell_type": "code",
   "execution_count": 40,
   "outputs": [
    {
     "name": "stdout",
     "output_type": "stream",
     "text": [
      "Detected calculation device: cuda\n"
     ]
    }
   ],
   "source": [
    "from sklearn.preprocessing import LabelEncoder\n",
    "import torch\n",
    "import torch.nn as nn\n",
    "import torch.optim as optim\n",
    "import gc\n",
    "gc.collect()\n",
    "torch.cuda.empty_cache()\n",
    "if SEED:\n",
    "    torch.manual_seed(SEED)\n",
    "\n",
    "DEVICE = torch.device('cuda' if torch.cuda.is_available() else 'cpu')\n",
    "print(f\"Detected calculation device: {DEVICE}\")"
   ],
   "metadata": {
    "collapsed": false,
    "ExecuteTime": {
     "end_time": "2024-06-03T13:34:03.552695800Z",
     "start_time": "2024-06-03T13:34:03.532628300Z"
    }
   },
   "id": "7139f3bac7c8fb0c"
  },
  {
   "cell_type": "markdown",
   "source": [
    "## Define class labels overrides"
   ],
   "metadata": {
    "collapsed": false
   },
   "id": "c898b77e58f54390"
  },
  {
   "cell_type": "code",
   "execution_count": 41,
   "outputs": [],
   "source": [
    "if True:\n",
    "    dict_7classes = {}\n",
    "    dict_7classes['DDoS-RSTFINFlood'] = 'DDoS'\n",
    "    dict_7classes['DDoS-PSHACK_Flood'] = 'DDoS'\n",
    "    dict_7classes['DDoS-SYN_Flood'] = 'DDoS'\n",
    "    dict_7classes['DDoS-UDP_Flood'] = 'DDoS'\n",
    "    dict_7classes['DDoS-TCP_Flood'] = 'DDoS'\n",
    "    dict_7classes['DDoS-ICMP_Flood'] = 'DDoS'\n",
    "    dict_7classes['DDoS-SynonymousIP_Flood'] = 'DDoS'\n",
    "    dict_7classes['DDoS-ACK_Fragmentation'] = 'DDoS'\n",
    "    dict_7classes['DDoS-UDP_Fragmentation'] = 'DDoS'\n",
    "    dict_7classes['DDoS-ICMP_Fragmentation'] = 'DDoS'\n",
    "    dict_7classes['DDoS-SlowLoris'] = 'DDoS'\n",
    "    dict_7classes['DDoS-HTTP_Flood'] = 'DDoS'\n",
    "    \n",
    "    dict_7classes['DoS-UDP_Flood'] = 'DoS'\n",
    "    dict_7classes['DoS-SYN_Flood'] = 'DoS'\n",
    "    dict_7classes['DoS-TCP_Flood'] = 'DoS'\n",
    "    dict_7classes['DoS-HTTP_Flood'] = 'DoS'\n",
    "    \n",
    "    \n",
    "    dict_7classes['Mirai-greeth_flood'] = 'Mirai'\n",
    "    dict_7classes['Mirai-greip_flood'] = 'Mirai'\n",
    "    dict_7classes['Mirai-udpplain'] = 'Mirai'\n",
    "    \n",
    "    dict_7classes['Recon-PingSweep'] = 'Recon'\n",
    "    dict_7classes['Recon-OSScan'] = 'Recon'\n",
    "    dict_7classes['Recon-PortScan'] = 'Recon'\n",
    "    dict_7classes['VulnerabilityScan'] = 'Recon'\n",
    "    dict_7classes['Recon-HostDiscovery'] = 'Recon'\n",
    "    \n",
    "    dict_7classes['DNS_Spoofing'] = 'Spoofing'\n",
    "    dict_7classes['MITM-ArpSpoofing'] = 'Spoofing'\n",
    "    \n",
    "    dict_7classes['BenignTraffic'] = 'Benign'\n",
    "    \n",
    "    dict_7classes['BrowserHijacking'] = 'Web'\n",
    "    dict_7classes['Backdoor_Malware'] = 'Web'\n",
    "    dict_7classes['XSS'] = 'Web'\n",
    "    dict_7classes['Uploading_Attack'] = 'Web'\n",
    "    dict_7classes['SqlInjection'] = 'Web'\n",
    "    dict_7classes['CommandInjection'] = 'Web'\n",
    "    \n",
    "    \n",
    "    dict_7classes['DictionaryBruteForce'] = 'BruteForce'\n",
    "    dict_2classes = {}\n",
    "    dict_2classes['DDoS-RSTFINFlood'] = 'Attack'\n",
    "    dict_2classes['DDoS-PSHACK_Flood'] = 'Attack'\n",
    "    dict_2classes['DDoS-SYN_Flood'] = 'Attack'\n",
    "    dict_2classes['DDoS-UDP_Flood'] = 'Attack'\n",
    "    dict_2classes['DDoS-TCP_Flood'] = 'Attack'\n",
    "    dict_2classes['DDoS-ICMP_Flood'] = 'Attack'\n",
    "    dict_2classes['DDoS-SynonymousIP_Flood'] = 'Attack'\n",
    "    dict_2classes['DDoS-ACK_Fragmentation'] = 'Attack'\n",
    "    dict_2classes['DDoS-UDP_Fragmentation'] = 'Attack'\n",
    "    dict_2classes['DDoS-ICMP_Fragmentation'] = 'Attack'\n",
    "    dict_2classes['DDoS-SlowLoris'] = 'Attack'\n",
    "    dict_2classes['DDoS-HTTP_Flood'] = 'Attack'\n",
    "    \n",
    "    dict_2classes['DoS-UDP_Flood'] = 'Attack'\n",
    "    dict_2classes['DoS-SYN_Flood'] = 'Attack'\n",
    "    dict_2classes['DoS-TCP_Flood'] = 'Attack'\n",
    "    dict_2classes['DoS-HTTP_Flood'] = 'Attack'\n",
    "    \n",
    "    \n",
    "    dict_2classes['Mirai-greeth_flood'] = 'Attack'\n",
    "    dict_2classes['Mirai-greip_flood'] = 'Attack'\n",
    "    dict_2classes['Mirai-udpplain'] = 'Attack'\n",
    "    \n",
    "    dict_2classes['Recon-PingSweep'] = 'Attack'\n",
    "    dict_2classes['Recon-OSScan'] = 'Attack'\n",
    "    dict_2classes['Recon-PortScan'] = 'Attack'\n",
    "    dict_2classes['VulnerabilityScan'] = 'Attack'\n",
    "    dict_2classes['Recon-HostDiscovery'] = 'Attack'\n",
    "    \n",
    "    dict_2classes['DNS_Spoofing'] = 'Attack'\n",
    "    dict_2classes['MITM-ArpSpoofing'] = 'Attack'\n",
    "    \n",
    "    dict_2classes['BenignTraffic'] = 'Benign'\n",
    "    \n",
    "    dict_2classes['BrowserHijacking'] = 'Attack'\n",
    "    dict_2classes['Backdoor_Malware'] = 'Attack'\n",
    "    dict_2classes['XSS'] = 'Attack'\n",
    "    dict_2classes['Uploading_Attack'] = 'Attack'\n",
    "    dict_2classes['SqlInjection'] = 'Attack'\n",
    "    dict_2classes['CommandInjection'] = 'Attack'\n",
    "    \n",
    "    dict_2classes['DictionaryBruteForce'] = 'Attack'  # Defin # Def"
   ],
   "metadata": {
    "collapsed": false,
    "ExecuteTime": {
     "end_time": "2024-06-03T13:34:03.582695400Z",
     "start_time": "2024-06-03T13:34:03.559695100Z"
    }
   },
   "id": "dcbd860a492f7fd8"
  },
  {
   "cell_type": "code",
   "execution_count": 42,
   "outputs": [
    {
     "data": {
      "text/plain": "  0%|          | 0/136 [00:00<?, ?it/s]",
      "application/vnd.jupyter.widget-view+json": {
       "version_major": 2,
       "version_minor": 0,
       "model_id": "b5b1f7011bbf458782741da1bfd74897"
      }
     },
     "metadata": {},
     "output_type": "display_data"
    }
   ],
   "source": [
    "class_counts = {}\n",
    "\n",
    "for train_set in tqdm(train_indexes):\n",
    "    df = pd.read_csv(df_sets[train_set])\n",
    "    \n",
    "    # Update class counts\n",
    "    for label in df[y_column]:\n",
    "        if label in class_counts:\n",
    "            class_counts[label] += 1\n",
    "        else:\n",
    "            class_counts[label] = 1\n",
    "\n",
    "# Convert class counts to arrays\n",
    "classes = np.array(list(class_counts.keys()))\n",
    "counts = np.array(list(class_counts.values()))"
   ],
   "metadata": {
    "collapsed": false,
    "ExecuteTime": {
     "end_time": "2024-06-03T13:35:38.828729300Z",
     "start_time": "2024-06-03T13:34:03.571694700Z"
    }
   },
   "id": "a3962d8a0fddb3ab"
  },
  {
   "cell_type": "markdown",
   "source": [
    "## Create custom dataset loader"
   ],
   "metadata": {
    "collapsed": false
   },
   "id": "e727584a80a52746"
  },
  {
   "cell_type": "code",
   "execution_count": 43,
   "outputs": [],
   "source": [
    "from torch.utils.data import Dataset, DataLoader\n",
    "\n",
    "class CustomDataset(Dataset):\n",
    "    def __init__(self, file_path, X_columns, y_column, scaler, encoder, dict_7classes=None, dict_2classes=None, classes=7):\n",
    "        self.X_columns = X_columns\n",
    "        self.y_column = y_column\n",
    "        self.scaler = scaler\n",
    "        self.dict_7classes = dict_7classes\n",
    "        self.dict_2classes = dict_2classes\n",
    "        self.classes = classes\n",
    "        self.label_encoder = encoder  # Instantiate LabelEncoder\n",
    "        self.data = pd.read_csv(file_path)\n",
    "        self.data.drop(columns=DROP_COLS)\n",
    "        \n",
    "        self.data[self.X_columns] = self.scaler.transform(self.data[self.X_columns])\n",
    "        \n",
    "        X = self.data[self.X_columns].values  # Convert DataFrame to numpy array\n",
    "        if self.classes == 7:\n",
    "            y = np.array([self.dict_7classes[k] for k in self.data[self.y_column]])\n",
    "        elif self.classes == 2:\n",
    "            y = np.array([self.dict_2classes[k] for k in self.data[self.y_column]])\n",
    "        else:\n",
    "            y = self.data[self.y_column].values\n",
    "        y_encoded = self.label_encoder.fit_transform(y)\n",
    "        self.X, self.y = torch.tensor(X, dtype=torch.float32), torch.tensor(y_encoded, dtype=torch.long)\n",
    "\n",
    "    def __len__(self):\n",
    "        return len(self.data)\n",
    "\n",
    "    def __getitem__(self, idx):\n",
    "        return self.X[idx], self.y[idx]\n",
    "        \n"
   ],
   "metadata": {
    "collapsed": false,
    "ExecuteTime": {
     "end_time": "2024-06-03T13:35:38.843729300Z",
     "start_time": "2024-06-03T13:35:38.835727300Z"
    }
   },
   "id": "70d923178dc7ba3d"
  },
  {
   "cell_type": "markdown",
   "source": [
    "## Define the custom neural network"
   ],
   "metadata": {
    "collapsed": false
   },
   "id": "990db8b0a4469774"
  },
  {
   "cell_type": "code",
   "execution_count": 44,
   "outputs": [],
   "source": [
    "from torch.nn.utils import parameters_to_vector\n",
    "\n",
    "class Attention(nn.Module):\n",
    "    def __init__(self, hidden_size):\n",
    "        super(Attention, self).__init__()\n",
    "        self.attention = nn.Linear(hidden_size, 1, bias=False)\n",
    "    \n",
    "    def forward(self, x):\n",
    "        weights = torch.softmax(self.attention(x), dim=1)\n",
    "        output = torch.sum(weights * x, dim=1)\n",
    "        return output\n",
    "\n",
    "class CustomClassifier(nn.Module):\n",
    "    def __init__(self, input_dim, hidden_size, output_dim):\n",
    "        super(CustomClassifier, self).__init__()\n",
    "        self.layer1 = nn.Sequential(\n",
    "            nn.Linear(input_dim, hidden_size),\n",
    "            nn.Softmax(),\n",
    "            nn.BatchNorm1d(hidden_size),\n",
    "            nn.Dropout(0.3)\n",
    "        )\n",
    "        # self.layer2 = nn.Sequential(\n",
    "        #     nn.Linear(hidden_size, hidden_size),\n",
    "        #     nn.Softmax(),\n",
    "        #     nn.BatchNorm1d(hidden_size)\n",
    "        #     #nn.Dropout(0.3)\n",
    "        # )\n",
    "        # self.layer3 = nn.Sequential(\n",
    "        #     nn.Linear(hidden_size, hidden_size//2),\n",
    "        #     nn.Softmax(),\n",
    "        #     nn.BatchNorm1d(hidden_size//2)\n",
    "        #     #nn.Dropout(0.25)\n",
    "        # )\n",
    "        # self.layer4 = nn.Sequential(\n",
    "        #     nn.Linear(hidden_size//2, hidden_size//4),\n",
    "        #     nn.Softmax(),\n",
    "        #     nn.BatchNorm1d(hidden_size//4)\n",
    "        #     #nn.Dropout(0.15)\n",
    "        # )\n",
    "        # self.attention = Attention(hidden_size)\n",
    "        self.output_layer = nn.Linear(hidden_size, output_dim)\n",
    "    \n",
    "    def forward(self, x):\n",
    "        x = self.layer1(x)\n",
    "        # x = self.layer2(x)\n",
    "        # x = self.layer3(x)\n",
    "        # x = self.layer4(x)\n",
    "        # x = self.attention(x.unsqueeze(1))  # Adding a sequence length dimension\n",
    "        x = self.output_layer(x)\n",
    "        return x\n",
    "\n"
   ],
   "metadata": {
    "collapsed": false,
    "ExecuteTime": {
     "end_time": "2024-06-03T13:35:38.858771500Z",
     "start_time": "2024-06-03T13:35:38.848729100Z"
    }
   },
   "id": "47bc814b13e11ca2"
  },
  {
   "cell_type": "markdown",
   "source": [
    "## Initialise dataset, model, loss, optimiser and "
   ],
   "metadata": {
    "collapsed": false
   },
   "id": "28d13d34a383d114"
  },
  {
   "cell_type": "code",
   "execution_count": 45,
   "outputs": [
    {
     "name": "stdout",
     "output_type": "stream",
     "text": [
      "Neuron count: 42530\n"
     ]
    }
   ],
   "source": [
    "from sklearn.utils.class_weight import compute_class_weight\n",
    "# Determine the model sizes\n",
    "dim_check_dataset = pd.read_csv(DATASET_DIR + '/' + df_sets[0])\n",
    "input_size = dim_check_dataset[X_columns].shape[1]  # ANN input size is count of variables\n",
    "hidden_size = 512\n",
    "output_size = len(dim_check_dataset[y_column].unique())  # Output size is number of possible labels\n",
    "del dim_check_dataset\n",
    "\n",
    "\n",
    "label_encoder = LabelEncoder()\n",
    "label_encoder.fit(classes)\n",
    "# Transform the classes to ensure they are in the same order as used by LabelEncoder\n",
    "encoded_classes = label_encoder.transform(classes)\n",
    "\n",
    "# Compute class weights using sklearn\n",
    "class_weights = compute_class_weight(class_weight='balanced', classes=encoded_classes, y=np.repeat(encoded_classes, counts))\n",
    "class_weights_tensor = torch.tensor(class_weights, dtype=torch.float).to(DEVICE)\n",
    "# Define the model, loss function, and optimizer\n",
    "model = CustomClassifier(input_size, hidden_size, output_size).to(DEVICE)\n",
    "print(f\"Neuron count: {parameters_to_vector(model.parameters()).numel()}\")\n",
    "criterion = nn.CrossEntropyLoss()#(weight=class_weights_tensor)\n",
    "optimizer = optim.Adam(model.parameters())\n",
    "\n",
    "\n",
    "pass\n",
    "BATCH_SIZE = 10000\n",
    "\n"
   ],
   "metadata": {
    "collapsed": false,
    "ExecuteTime": {
     "end_time": "2024-06-03T13:35:42.023734900Z",
     "start_time": "2024-06-03T13:35:38.861729Z"
    }
   },
   "id": "3c88c3a31c46ce75"
  },
  {
   "cell_type": "markdown",
   "source": [
    "## Main training loop\n",
    "The data is read every iteration due to the weight of the whole data not being able to fit to memory at the same time"
   ],
   "metadata": {
    "collapsed": false
   },
   "id": "7d5dac3a205e45e5"
  },
  {
   "metadata": {
    "ExecuteTime": {
     "end_time": "2024-06-03T13:42:50.114380800Z",
     "start_time": "2024-06-03T13:35:42.028732300Z"
    }
   },
   "cell_type": "code",
   "source": [
    "# num_epochs = len(df_sets)\n",
    "# prev_loss = float('inf')\n",
    "\n",
    "model.train()\n",
    "for i, train_i in enumerate(tqdm(train_indexes)):  # Example number of epochs\n",
    "    train_dataset = CustomDataset(df_sets[train_i], X_columns, y_column, scaler, label_encoder, dict_7classes, dict_2classes, CLASSES)\n",
    "    train_loader = DataLoader(train_dataset, batch_size=BATCH_SIZE, shuffle=True, num_workers=0)  # Adjust num_workers based on your system\n",
    "    running_loss = 0.0\n",
    "\n",
    "    for inputs, targets in train_loader:\n",
    "        inputs, targets = inputs.to(DEVICE), targets.to(DEVICE)  # Move data to GPU\n",
    "        optimizer.zero_grad()\n",
    "        outputs = model(inputs)\n",
    "        loss = criterion(outputs, targets)\n",
    "        loss.backward()\n",
    "        optimizer.step()\n",
    "\n",
    "        running_loss += loss.item() * inputs.size(0)\n",
    "    \n",
    "    # if (train_i+1) % (len(train_dataset)//10) == 0:\n",
    "    tqdm.write(f\"Epoch {i + 1}, Loss: {running_loss / len(train_loader)}\")\n",
    "        \n",
    "\n"
   ],
   "id": "8333e82f5deb1c38",
   "outputs": [
    {
     "data": {
      "text/plain": "  0%|          | 0/136 [00:00<?, ?it/s]",
      "application/vnd.jupyter.widget-view+json": {
       "version_major": 2,
       "version_minor": 0,
       "model_id": "d97d9cccc71846f88a5d583d70de2d0a"
      }
     },
     "metadata": {},
     "output_type": "display_data"
    },
    {
     "name": "stdout",
     "output_type": "stream",
     "text": [
      "Epoch 1, Loss: 30964.32161776225\n",
      "Epoch 2, Loss: 15949.786528685263\n",
      "Epoch 3, Loss: 3776.971816468363\n",
      "Epoch 4, Loss: 980.6698796755594\n",
      "Epoch 5, Loss: 456.0911963582039\n",
      "Epoch 6, Loss: 372.5605563858281\n",
      "Epoch 7, Loss: 320.0970643586837\n",
      "Epoch 8, Loss: 291.72785717896795\n",
      "Epoch 9, Loss: 275.4751365349318\n",
      "Epoch 10, Loss: 268.6457782265109\n",
      "Epoch 11, Loss: 251.58402627029201\n",
      "Epoch 12, Loss: 252.052928586249\n",
      "Epoch 13, Loss: 238.03435758881582\n",
      "Epoch 14, Loss: 227.9747157300944\n",
      "Epoch 15, Loss: 221.38776920735836\n",
      "Epoch 16, Loss: 216.12538973211\n",
      "Epoch 17, Loss: 212.96402518311515\n",
      "Epoch 18, Loss: 203.5629019005548\n",
      "Epoch 19, Loss: 208.03677337851536\n",
      "Epoch 20, Loss: 204.09830085829728\n",
      "Epoch 21, Loss: 196.0621419639691\n",
      "Epoch 22, Loss: 195.20981657791597\n",
      "Epoch 23, Loss: 204.878071998246\n",
      "Epoch 24, Loss: 194.40122748117733\n",
      "Epoch 25, Loss: 191.03837983504584\n",
      "Epoch 26, Loss: 193.14655933057267\n",
      "Epoch 27, Loss: 186.7178672713538\n",
      "Epoch 28, Loss: 190.930433456024\n",
      "Epoch 29, Loss: 179.52945739107037\n",
      "Epoch 30, Loss: 188.71189626399428\n",
      "Epoch 31, Loss: 183.50269730314614\n",
      "Epoch 32, Loss: 182.17434937276107\n",
      "Epoch 33, Loss: 179.0628053949286\n",
      "Epoch 34, Loss: 177.32397019397467\n",
      "Epoch 35, Loss: 181.48778236955405\n",
      "Epoch 36, Loss: 181.94915841768184\n",
      "Epoch 37, Loss: 175.1907800679716\n",
      "Epoch 38, Loss: 174.30997092124414\n",
      "Epoch 39, Loss: 172.96551040768622\n",
      "Epoch 40, Loss: 176.90136932008542\n",
      "Epoch 41, Loss: 172.95065268253288\n",
      "Epoch 42, Loss: 173.13470000475644\n",
      "Epoch 43, Loss: 175.55132416115762\n",
      "Epoch 44, Loss: 172.40316763403825\n",
      "Epoch 45, Loss: 170.8249555149187\n",
      "Epoch 46, Loss: 178.55826107001243\n",
      "Epoch 47, Loss: 171.43746119411662\n",
      "Epoch 48, Loss: 164.12254204300956\n",
      "Epoch 49, Loss: 165.16276568353177\n",
      "Epoch 50, Loss: 175.90644387562168\n",
      "Epoch 51, Loss: 174.7226189441151\n",
      "Epoch 52, Loss: 163.97413129861587\n",
      "Epoch 53, Loss: 161.2990152722597\n",
      "Epoch 54, Loss: 167.81804894769772\n",
      "Epoch 55, Loss: 166.87732112865584\n",
      "Epoch 56, Loss: 163.2027280908078\n",
      "Epoch 57, Loss: 167.2848942598535\n",
      "Epoch 58, Loss: 164.49516679180994\n",
      "Epoch 59, Loss: 166.73880648291245\n",
      "Epoch 60, Loss: 167.27092444041574\n",
      "Epoch 61, Loss: 163.5562354378888\n",
      "Epoch 62, Loss: 165.0287091260931\n",
      "Epoch 63, Loss: 155.32936316022338\n",
      "Epoch 64, Loss: 160.0298341685751\n",
      "Epoch 65, Loss: 174.22550321791482\n",
      "Epoch 66, Loss: 166.0090413355147\n",
      "Epoch 67, Loss: 162.21101126901806\n",
      "Epoch 68, Loss: 166.11349942937494\n",
      "Epoch 69, Loss: 164.18719972848245\n",
      "Epoch 70, Loss: 166.41743944212794\n",
      "Epoch 71, Loss: 156.9452112556994\n",
      "Epoch 72, Loss: 166.25544856507676\n",
      "Epoch 73, Loss: 159.6501373553818\n",
      "Epoch 74, Loss: 165.02119183432885\n",
      "Epoch 75, Loss: 165.8571180836406\n",
      "Epoch 76, Loss: 160.64230243439476\n",
      "Epoch 77, Loss: 162.9132710766907\n",
      "Epoch 78, Loss: 157.35157530836761\n",
      "Epoch 79, Loss: 158.00551406811508\n",
      "Epoch 80, Loss: 160.1426059192419\n",
      "Epoch 81, Loss: 163.3306936867859\n",
      "Epoch 82, Loss: 160.54368345299736\n",
      "Epoch 83, Loss: 152.94521473969021\n",
      "Epoch 84, Loss: 154.26919609301078\n",
      "Epoch 85, Loss: 156.51645655978632\n",
      "Epoch 86, Loss: 157.57946157455444\n",
      "Epoch 87, Loss: 153.57271745944252\n",
      "Epoch 88, Loss: 156.14455574061031\n",
      "Epoch 89, Loss: 156.33855294249952\n",
      "Epoch 90, Loss: 158.7226945558494\n",
      "Epoch 91, Loss: 154.67080405752102\n",
      "Epoch 92, Loss: 158.82499690556332\n",
      "Epoch 93, Loss: 159.23477336696604\n",
      "Epoch 94, Loss: 157.6283192848414\n",
      "Epoch 95, Loss: 149.90052358448506\n",
      "Epoch 96, Loss: 161.68063497365537\n",
      "Epoch 97, Loss: 153.82111576991156\n",
      "Epoch 98, Loss: 153.92255837152092\n",
      "Epoch 99, Loss: 156.92798354417084\n",
      "Epoch 100, Loss: 152.28383336305617\n",
      "Epoch 101, Loss: 156.9346504432794\n",
      "Epoch 102, Loss: 157.79626163601876\n",
      "Epoch 103, Loss: 158.70338093712925\n",
      "Epoch 104, Loss: 153.21328935679048\n",
      "Epoch 105, Loss: 152.84891394836208\n",
      "Epoch 106, Loss: 156.3246517040146\n",
      "Epoch 107, Loss: 158.82789875595614\n",
      "Epoch 108, Loss: 153.66646767790533\n",
      "Epoch 109, Loss: 149.3113029365195\n",
      "Epoch 110, Loss: 156.7688034233482\n",
      "Epoch 111, Loss: 151.17723252236843\n",
      "Epoch 112, Loss: 157.68107681558467\n",
      "Epoch 113, Loss: 155.0574478437503\n",
      "Epoch 114, Loss: 152.29080529754552\n",
      "Epoch 115, Loss: 155.4381614141994\n",
      "Epoch 116, Loss: 154.20654340729945\n",
      "Epoch 117, Loss: 151.76843194776902\n",
      "Epoch 118, Loss: 148.38157114841871\n",
      "Epoch 119, Loss: 149.25546930335463\n",
      "Epoch 120, Loss: 150.1678440665619\n",
      "Epoch 121, Loss: 148.58828203380108\n",
      "Epoch 122, Loss: 150.42808122218898\n",
      "Epoch 123, Loss: 146.78414873499423\n",
      "Epoch 124, Loss: 147.6801399947144\n",
      "Epoch 125, Loss: 154.26651523421623\n",
      "Epoch 126, Loss: 147.96008011326194\n",
      "Epoch 127, Loss: 151.37211404659826\n",
      "Epoch 128, Loss: 153.24199840670022\n",
      "Epoch 129, Loss: 147.04282844842723\n",
      "Epoch 130, Loss: 148.82042736265188\n",
      "Epoch 131, Loss: 151.2047629340086\n",
      "Epoch 132, Loss: 149.28146844488484\n",
      "Epoch 133, Loss: 148.84170801656114\n",
      "Epoch 134, Loss: 148.55921608308952\n",
      "Epoch 135, Loss: 150.43573274139476\n",
      "Epoch 136, Loss: 148.21157289552502\n"
     ]
    }
   ],
   "execution_count": 46
  },
  {
   "cell_type": "markdown",
   "source": [
    "## Evaluation"
   ],
   "metadata": {
    "collapsed": false
   },
   "id": "dfeaffa2aed3713"
  },
  {
   "metadata": {
    "ExecuteTime": {
     "end_time": "2024-06-03T13:44:35.395038Z",
     "start_time": "2024-06-03T13:42:50.132495900Z"
    }
   },
   "cell_type": "code",
   "source": [
    "from sklearn.metrics import accuracy_score, precision_recall_fscore_support, confusion_matrix\n",
    "pass\n",
    "model.eval()  # Set the model to evaluation mode\n",
    "val_losses = []\n",
    "true_labels = []\n",
    "pred_labels = []\n",
    "\n",
    "with torch.no_grad():\n",
    "    for test_i in tqdm(test_indexes):\n",
    "        test_dataset = CustomDataset(df_sets[test_i], X_columns, y_column, scaler, label_encoder, dict_7classes, dict_2classes, CLASSES)\n",
    "        test_loader = DataLoader(test_dataset, batch_size=BATCH_SIZE, shuffle=True, num_workers=0)  # Adjust num_workers based on your system\n",
    "\n",
    "        for inputs, targets in test_loader:\n",
    "            inputs, targets = inputs.to(DEVICE), targets.to(DEVICE)\n",
    "            outputs = model(inputs)\n",
    "            loss = criterion(outputs, targets)\n",
    "            val_losses.append(loss.item())\n",
    "            \n",
    "            # Convert logits to class predictions\n",
    "            _, predicted = torch.max(outputs, 1)\n",
    "            \n",
    "            true_labels.extend(targets.tolist())\n",
    "            pred_labels.extend(predicted.tolist())\n",
    "    \n",
    "accuracy = accuracy_score(true_labels, pred_labels)\n",
    "precision, recall, f1, _ = precision_recall_fscore_support(true_labels, pred_labels, average='macro')\n",
    "conf_matrix = confusion_matrix(true_labels, pred_labels)\n",
    "\n",
    "print(f'Validation Loss: {np.mean(val_losses):.4f}')\n",
    "print(f'Accuracy: {accuracy:.4f}')\n",
    "print(f'Precision: {precision:.4f}')\n",
    "print(f'Recall: {recall:.4f}')\n",
    "print(f'F1 Score: {f1:.4f}')\n",
    "print('Confusion Matrix:')\n",
    "print(conf_matrix)\n",
    "\n",
    "from uuid import uuid4\n",
    "import inspect\n",
    "current_uuid = str(uuid4())\n",
    "print(f\"Saving model with uuid {current_uuid}\")\n",
    "# TODO - improve the writeout (include seed if set, include parameters e.g. hidden_layer sizes etc etc)\n",
    "with open(f'results/{current_uuid}', 'w') as f:\n",
    "    if SEED:\n",
    "        f.write(f'SEED was set: {SEED}\\n')\n",
    "    f.write(f'Input, Hidden and Output: {input_size}, {hidden_size}, {output_size}')\n",
    "    f.write(f'\\n\\nValidation Loss: {np.mean(val_losses):.4f}\\nAccuracy: {accuracy:.4f}\\nPrecision: {precision:.4f}\\nRecall: {recall:.4f}\\nF1 Score: {f1:.4f}\\n\\n')\n",
    "    # Hacky way of saving the model class for reuse\n",
    "    v = vars(model.__class__)\n",
    "    methods = [name for name, attr in v.items() if inspect.isfunction(attr)]\n",
    "    f.write('class CustomClassifier(nn.Module):\\n')\n",
    "    for m in methods:\n",
    "        f.write(inspect.getsource(getattr(model, m)))"
   ],
   "id": "73e44369e4cf6bb9",
   "outputs": [
    {
     "data": {
      "text/plain": "  0%|          | 0/33 [00:00<?, ?it/s]",
      "application/vnd.jupyter.widget-view+json": {
       "version_major": 2,
       "version_minor": 0,
       "model_id": "11c0010ae5914f55a7f4e0ff9f191d98"
      }
     },
     "metadata": {},
     "output_type": "display_data"
    },
    {
     "name": "stdout",
     "output_type": "stream",
     "text": [
      "Validation Loss: 0.0145\n",
      "Accuracy: 0.9936\n",
      "Precision: 0.9192\n",
      "Recall: 0.9477\n",
      "F1 Score: 0.9330\n",
      "Confusion Matrix:\n",
      "[[8820697   36294]\n",
      " [  21391  191655]]\n",
      "Saving model with uuid e842a773-1584-48e8-9a21-648493c1795c\n"
     ]
    }
   ],
   "execution_count": 47
  },
  {
   "cell_type": "code",
   "execution_count": 48,
   "outputs": [
    {
     "data": {
      "text/plain": "<Figure size 1200x900 with 2 Axes>",
      "image/png": "[encoded data removed]"
     },
     "metadata": {},
     "output_type": "display_data"
    }
   ],
   "source": [
    "import matplotlib.pyplot as plt\n",
    "import seaborn as sns\n",
    "\n",
    "class_names = label_encoder.classes_\n",
    "plt.figure(figsize=(12, 9))\n",
    "sns.heatmap(conf_matrix, annot=True, fmt='d', cmap='Blues', xticklabels=class_names, yticklabels=class_names)\n",
    "plt.xlabel('Predicted')\n",
    "plt.ylabel('Actual')\n",
    "plt.title('Confusion Matrix')\n",
    "plt.savefig('confusion_matrix_seaborn.png', dpi=500, bbox_inches='tight')\n",
    "plt.show()\n",
    "\n",
    "# Convert confusion matrix array to a DataFrame\n",
    "cm_df = pd.DataFrame(conf_matrix, index=class_names, columns=class_names)\n",
    "\n",
    "# Export the DataFrame to a CSV file\n",
    "cm_df.to_csv(f'confusion_matrix-{current_uuid}.csv')"
   ],
   "metadata": {
    "collapsed": false,
    "ExecuteTime": {
     "end_time": "2024-06-03T13:44:36.249341600Z",
     "start_time": "2024-06-03T13:44:35.398034900Z"
    }
   },
   "id": "778d713860421a77"
  }
 ],
 "metadata": {
  "kernelspec": {
   "display_name": "Python 3",
   "language": "python",
   "name": "python3"
  },
  "language_info": {
   "codemirror_mode": {
    "name": "ipython",
    "version": 2
   },
   "file_extension": ".py",
   "mimetype": "text/x-python",
   "name": "python",
   "nbconvert_exporter": "python",
   "pygments_lexer": "ipython2",
   "version": "2.7.6"
  }
 },
 "nbformat": 4,
 "nbformat_minor": 5
}
