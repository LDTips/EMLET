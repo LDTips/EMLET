{
 "cells": [
  {
   "metadata": {},
   "cell_type": "markdown",
   "source": [
    "# Introduction\n",
    "The aim is to implement a ML solution that will perform better than the provided example jupyter notebook that utilises basic logistic regression from the scikit module. The data was scaled and then fit into that model. The following results were obtained:\n",
    "# LogisticRegression\n",
    "## LogisticRegression (34 classes)\n",
    "accuracy_score:  0.802\\\n",
    "recall_score:  0.595\\\n",
    "precision_score:  0.487\\\n",
    "f1_score:  0.494\n",
    "\n",
    "## LogisticRegression (8 classes)\n",
    "accuracy_score =  0.832\\\n",
    "recall_score =  0.696\\\n",
    "precision_score =  0.512\\\n",
    "f1_score =  0.539\n",
    "\n",
    "## LogisticRegression (2 classes)\n",
    "accuracy_score:  0.989\\\n",
    "recall_score:  0.890\\\n",
    "precision_score:  0.864\\\n",
    "f1_score:  0.877\n",
    "\n",
    "# SGD\n",
    "## SGD (34 classes)\n",
    "accuracy_score:  0.7860381477619159\n",
    "recall_score:  0.5179118961920882\n",
    "precision_score:  0.42184457529453795\n",
    "f1_score:  0.4256465870416849\n",
    "\n",
    "## SGD (8 classes)\n",
    "accuracy_score =  0.8226369976250854\n",
    "recall_score =  0.68058577451911\n",
    "precision_score =  0.4617525150801485\n",
    "f1_score =  0.49719100438594754\n",
    "\n",
    "## SGD (2 classes)\n",
    "accuracy_score:  0.9868773803425305\n",
    "recall_score:  0.8686111308207715\n",
    "precision_score:  0.8334084807767805\n",
    "f1_score:  0.8500759333973384\n",
    "\n",
    "\n",
    "It is worth noting that good accuracy score in this case is not a good metric due to high amount of malicious packet data compared to benign. To combat that, it is better to look at score metrics such as recall, precision and f1. Furthermore, duplication of benign entries is an option, but might not be a correct option due to the actual nature of DDoS attacks having very big amount of packets compared to normal benign traffic."
   ],
   "id": "a5b022abca638b7f"
  },
  {
   "cell_type": "markdown",
   "source": [
    "# Coding\n",
    "## Importing packages and dataset"
   ],
   "metadata": {
    "collapsed": false
   },
   "id": "3efd98ab4f82110b"
  },
  {
   "metadata": {
    "ExecuteTime": {
     "end_time": "2024-06-04T08:58:25.224560300Z",
     "start_time": "2024-06-04T08:58:25.193473200Z"
    }
   },
   "cell_type": "code",
   "source": [
    "import pandas as pd\n",
    "import numpy as np\n",
    "import os\n",
    "from tqdm.autonotebook import tqdm\n",
    "import warnings\n",
    "warnings.filterwarnings('ignore')\n",
    "DATASET_DIR = r'../CICIoT2023'"
   ],
   "id": "initial_id",
   "outputs": [],
   "execution_count": 82
  },
  {
   "metadata": {
    "ExecuteTime": {
     "end_time": "2024-06-04T08:58:25.277176Z",
     "start_time": "2024-06-04T08:58:25.228560200Z"
    }
   },
   "cell_type": "code",
   "source": [
    "df_sets = [DATASET_DIR + '/' + k for k in os.listdir(DATASET_DIR) if k.endswith('.csv')]\n",
    "df_sets.sort()\n",
    "# Data is too large to parse as a single pd\n",
    "index_range = range(len(df_sets))\n",
    "import random\n",
    "SEED = 42  # Set to None for randomness\n",
    "if SEED:\n",
    "    random.seed(SEED)\n",
    "    print(f\"INFO: Using seed {SEED}\")\n",
    "else:\n",
    "    print(f\"Using random seed\")\n",
    "CLASSES = 7 ## Valid values are 34, 7 or 2\n",
    "if CLASSES not in (34, 7, 2):\n",
    "    print(\"Please set a valid number of classes (34, 7, 2)\")\n",
    "    exit(1)\n",
    "else:\n",
    "    print(f\"INFO: Using {CLASSES} classes\")\n",
    "# Manual train/test splitting\n",
    "test_indexes_count = int(len(df_sets)*0.2)\n",
    "train_indexes_count = int(len(df_sets)*0.8)\n",
    "test_indexes = random.sample(index_range, test_indexes_count)\n",
    "train_indexes = [i for i in index_range if i not in test_indexes][:train_indexes_count]\n",
    "test_data, train_data = [], []\n",
    "print(test_indexes)\n",
    "X_columns = [\n",
    "    'flow_duration', 'Header_Length', 'Protocol Type', 'Duration',\n",
    "    'Rate', 'Srate', 'Drate', 'fin_flag_number', 'syn_flag_number',\n",
    "    'rst_flag_number', 'psh_flag_number', 'ack_flag_number',\n",
    "    'ece_flag_number', 'cwr_flag_number', 'ack_count',\n",
    "    'syn_count', 'fin_count', 'urg_count', 'rst_count', \n",
    "    'HTTP', 'HTTPS', 'DNS', 'Telnet', 'SMTP', 'SSH', 'IRC', 'TCP',\n",
    "    'UDP', 'DHCP', 'ARP', 'ICMP', 'IPv', 'LLC', 'Tot sum', 'Min',\n",
    "    'Max', 'AVG', 'Std', 'Tot size', 'IAT', 'Number', 'Magnitue',\n",
    "    'Radius', 'Covariance', 'Variance', 'Weight', \n",
    "]\n",
    "y_column = 'label'\n",
    "# DROP_COLS = ['SMTP', 'Drate', 'IRC', 'DHCP', 'Telnet', 'ece_flag_number', 'cwr_flag_number', 'ARP', 'IPv', 'LLC', 'DNS', 'fin_flag_number', 'syn_flag_number', 'rst_flag_number', 'ICMP', 'HTTP', 'psh_flag_number']"
   ],
   "id": "6aa1186881b995ad",
   "outputs": [
    {
     "name": "stdout",
     "output_type": "stream",
     "text": [
      "INFO: Using seed 42\n",
      "INFO: Using 7 classes\n",
      "[163, 28, 6, 70, 62, 57, 35, 26, 139, 22, 151, 108, 8, 7, 23, 55, 59, 129, 166, 143, 50, 160, 107, 56, 114, 71, 1, 40, 157, 87, 149, 39, 153]\n"
     ]
    }
   ],
   "execution_count": 83
  },
  {
   "cell_type": "markdown",
   "source": [
    "## Scaling the data"
   ],
   "metadata": {
    "collapsed": false
   },
   "id": "8d152f068c80c6c6"
  },
  {
   "metadata": {
    "ExecuteTime": {
     "end_time": "2024-06-04T08:58:25.277176Z",
     "start_time": "2024-06-04T08:58:25.261177600Z"
    }
   },
   "cell_type": "code",
   "source": [
    "from sklearn.preprocessing import StandardScaler\n",
    "scaler = StandardScaler()\n",
    "\n",
    "count = 37616542"
   ],
   "id": "1f9eaece35701381",
   "outputs": [],
   "execution_count": 84
  },
  {
   "cell_type": "markdown",
   "source": [
    "## Initialise pytorch and check if GPU is available"
   ],
   "metadata": {
    "collapsed": false
   },
   "id": "42265f56f2e93eb9"
  },
  {
   "cell_type": "code",
   "execution_count": 85,
   "outputs": [
    {
     "name": "stdout",
     "output_type": "stream",
     "text": [
      "Detected calculation device: cuda\n"
     ]
    }
   ],
   "source": [
    "from sklearn.preprocessing import LabelEncoder\n",
    "import torch\n",
    "import torch.nn as nn\n",
    "import torch.optim as optim\n",
    "import gc\n",
    "gc.collect()\n",
    "torch.cuda.empty_cache()\n",
    "if SEED:\n",
    "    torch.manual_seed(SEED)\n",
    "\n",
    "DEVICE = torch.device('cuda' if torch.cuda.is_available() else 'cpu')\n",
    "print(f\"Detected calculation device: {DEVICE}\")"
   ],
   "metadata": {
    "collapsed": false,
    "ExecuteTime": {
     "end_time": "2024-06-04T08:58:25.403366100Z",
     "start_time": "2024-06-04T08:58:25.390369700Z"
    }
   },
   "id": "7139f3bac7c8fb0c"
  },
  {
   "cell_type": "markdown",
   "source": [
    "## Define class labels overrides"
   ],
   "metadata": {
    "collapsed": false
   },
   "id": "c898b77e58f54390"
  },
  {
   "cell_type": "code",
   "execution_count": 86,
   "outputs": [],
   "source": [
    "if True:\n",
    "    dict_7classes = {}\n",
    "    dict_7classes['DDoS-RSTFINFlood'] = 'DDoS'\n",
    "    dict_7classes['DDoS-PSHACK_Flood'] = 'DDoS'\n",
    "    dict_7classes['DDoS-SYN_Flood'] = 'DDoS'\n",
    "    dict_7classes['DDoS-UDP_Flood'] = 'DDoS'\n",
    "    dict_7classes['DDoS-TCP_Flood'] = 'DDoS'\n",
    "    dict_7classes['DDoS-ICMP_Flood'] = 'DDoS'\n",
    "    dict_7classes['DDoS-SynonymousIP_Flood'] = 'DDoS'\n",
    "    dict_7classes['DDoS-ACK_Fragmentation'] = 'DDoS'\n",
    "    dict_7classes['DDoS-UDP_Fragmentation'] = 'DDoS'\n",
    "    dict_7classes['DDoS-ICMP_Fragmentation'] = 'DDoS'\n",
    "    dict_7classes['DDoS-SlowLoris'] = 'DDoS'\n",
    "    dict_7classes['DDoS-HTTP_Flood'] = 'DDoS'\n",
    "    \n",
    "    dict_7classes['DoS-UDP_Flood'] = 'DoS'\n",
    "    dict_7classes['DoS-SYN_Flood'] = 'DoS'\n",
    "    dict_7classes['DoS-TCP_Flood'] = 'DoS'\n",
    "    dict_7classes['DoS-HTTP_Flood'] = 'DoS'\n",
    "    \n",
    "    \n",
    "    dict_7classes['Mirai-greeth_flood'] = 'Mirai'\n",
    "    dict_7classes['Mirai-greip_flood'] = 'Mirai'\n",
    "    dict_7classes['Mirai-udpplain'] = 'Mirai'\n",
    "    \n",
    "    dict_7classes['Recon-PingSweep'] = 'Recon'\n",
    "    dict_7classes['Recon-OSScan'] = 'Recon'\n",
    "    dict_7classes['Recon-PortScan'] = 'Recon'\n",
    "    dict_7classes['VulnerabilityScan'] = 'Recon'\n",
    "    dict_7classes['Recon-HostDiscovery'] = 'Recon'\n",
    "    \n",
    "    dict_7classes['DNS_Spoofing'] = 'Spoofing'\n",
    "    dict_7classes['MITM-ArpSpoofing'] = 'Spoofing'\n",
    "    \n",
    "    dict_7classes['BenignTraffic'] = 'Benign'\n",
    "    \n",
    "    dict_7classes['BrowserHijacking'] = 'Web'\n",
    "    dict_7classes['Backdoor_Malware'] = 'Web'\n",
    "    dict_7classes['XSS'] = 'Web'\n",
    "    dict_7classes['Uploading_Attack'] = 'Web'\n",
    "    dict_7classes['SqlInjection'] = 'Web'\n",
    "    dict_7classes['CommandInjection'] = 'Web'\n",
    "    \n",
    "    \n",
    "    dict_7classes['DictionaryBruteForce'] = 'BruteForce'\n",
    "    dict_2classes = {}\n",
    "    dict_2classes['DDoS-RSTFINFlood'] = 'Attack'\n",
    "    dict_2classes['DDoS-PSHACK_Flood'] = 'Attack'\n",
    "    dict_2classes['DDoS-SYN_Flood'] = 'Attack'\n",
    "    dict_2classes['DDoS-UDP_Flood'] = 'Attack'\n",
    "    dict_2classes['DDoS-TCP_Flood'] = 'Attack'\n",
    "    dict_2classes['DDoS-ICMP_Flood'] = 'Attack'\n",
    "    dict_2classes['DDoS-SynonymousIP_Flood'] = 'Attack'\n",
    "    dict_2classes['DDoS-ACK_Fragmentation'] = 'Attack'\n",
    "    dict_2classes['DDoS-UDP_Fragmentation'] = 'Attack'\n",
    "    dict_2classes['DDoS-ICMP_Fragmentation'] = 'Attack'\n",
    "    dict_2classes['DDoS-SlowLoris'] = 'Attack'\n",
    "    dict_2classes['DDoS-HTTP_Flood'] = 'Attack'\n",
    "    \n",
    "    dict_2classes['DoS-UDP_Flood'] = 'Attack'\n",
    "    dict_2classes['DoS-SYN_Flood'] = 'Attack'\n",
    "    dict_2classes['DoS-TCP_Flood'] = 'Attack'\n",
    "    dict_2classes['DoS-HTTP_Flood'] = 'Attack'\n",
    "    \n",
    "    \n",
    "    dict_2classes['Mirai-greeth_flood'] = 'Attack'\n",
    "    dict_2classes['Mirai-greip_flood'] = 'Attack'\n",
    "    dict_2classes['Mirai-udpplain'] = 'Attack'\n",
    "    \n",
    "    dict_2classes['Recon-PingSweep'] = 'Attack'\n",
    "    dict_2classes['Recon-OSScan'] = 'Attack'\n",
    "    dict_2classes['Recon-PortScan'] = 'Attack'\n",
    "    dict_2classes['VulnerabilityScan'] = 'Attack'\n",
    "    dict_2classes['Recon-HostDiscovery'] = 'Attack'\n",
    "    \n",
    "    dict_2classes['DNS_Spoofing'] = 'Attack'\n",
    "    dict_2classes['MITM-ArpSpoofing'] = 'Attack'\n",
    "    \n",
    "    dict_2classes['BenignTraffic'] = 'Benign'\n",
    "    \n",
    "    dict_2classes['BrowserHijacking'] = 'Attack'\n",
    "    dict_2classes['Backdoor_Malware'] = 'Attack'\n",
    "    dict_2classes['XSS'] = 'Attack'\n",
    "    dict_2classes['Uploading_Attack'] = 'Attack'\n",
    "    dict_2classes['SqlInjection'] = 'Attack'\n",
    "    dict_2classes['CommandInjection'] = 'Attack'\n",
    "    \n",
    "    dict_2classes['DictionaryBruteForce'] = 'Attack'  # Defin # Def"
   ],
   "metadata": {
    "collapsed": false,
    "ExecuteTime": {
     "end_time": "2024-06-04T08:58:25.432416Z",
     "start_time": "2024-06-04T08:58:25.407367600Z"
    }
   },
   "id": "dcbd860a492f7fd8"
  },
  {
   "cell_type": "code",
   "execution_count": 87,
   "outputs": [
    {
     "data": {
      "text/plain": "  0%|          | 0/135 [00:00<?, ?it/s]",
      "application/vnd.jupyter.widget-view+json": {
       "version_major": 2,
       "version_minor": 0,
       "model_id": "e977c67261444ff2bd45915c59074b78"
      }
     },
     "metadata": {},
     "output_type": "display_data"
    }
   ],
   "source": [
    "class_counts = {}\n",
    "\n",
    "for train_set in tqdm(train_indexes):\n",
    "    df = pd.read_csv(df_sets[train_set])\n",
    "    \n",
    "    # Update class counts\n",
    "    for label in df[y_column]:\n",
    "        if label in class_counts:\n",
    "            class_counts[label] += 1\n",
    "        else:\n",
    "            class_counts[label] = 1\n",
    "\n",
    "# Convert class counts to arrays\n",
    "classes = np.array(list(class_counts.keys()))\n",
    "counts = np.array(list(class_counts.values()))"
   ],
   "metadata": {
    "collapsed": false,
    "ExecuteTime": {
     "end_time": "2024-06-04T08:59:59.065412200Z",
     "start_time": "2024-06-04T08:58:25.419417800Z"
    }
   },
   "id": "a3962d8a0fddb3ab"
  },
  {
   "cell_type": "markdown",
   "source": [
    "## Create custom dataset loader"
   ],
   "metadata": {
    "collapsed": false
   },
   "id": "e727584a80a52746"
  },
  {
   "cell_type": "code",
   "execution_count": 88,
   "outputs": [],
   "source": [
    "from torch.utils.data import Dataset, DataLoader\n",
    "from collections import Counter\n",
    "from imblearn.over_sampling import SMOTE, RandomOverSampler\n",
    "from imblearn.under_sampling import RandomUnderSampler\n",
    "from imblearn.pipeline import Pipeline\n",
    "\n",
    "class CustomDataset(Dataset):\n",
    "    def __init__(self, file_path, X_columns, y_column, scaler, encoder, dict_7classes=None, dict_2classes=None, classes=7):\n",
    "        self.X_columns = X_columns\n",
    "        self.y_column = y_column\n",
    "        self.scaler = scaler\n",
    "        self.dict_7classes = dict_7classes\n",
    "        self.dict_2classes = dict_2classes\n",
    "        self.classes = classes\n",
    "        self.label_encoder = encoder  # Instantiate LabelEncoder\n",
    "        self.data = pd.read_csv(file_path)\n",
    "        \n",
    "        label_counts = Counter(self.data[y_column]).most_common()\n",
    "        benign_index = next((i for i, l in enumerate(label_counts) if l[0] == 'BenignTraffic'))\n",
    "        less_than_six_labels = [l[0] for i, l in enumerate(label_counts) if l[1] <= 5]\n",
    "        resampling_pipeline = Pipeline([\n",
    "            ('over', RandomOverSampler(sampling_strategy={l: 6 for l in less_than_six_labels}, random_state=42)),\n",
    "            ('under', RandomUnderSampler(sampling_strategy={l[0]: label_counts[benign_index][1] for l in label_counts[:benign_index]}, random_state=42)),\n",
    "            ('SMOTE', SMOTE(sampling_strategy='auto', random_state=42, k_neighbors=5))\n",
    "        ])\n",
    "        X, y = resampling_pipeline.fit_resample(self.data[X_columns], self.data[y_column])\n",
    "\n",
    "        X = self.scaler.fit_transform(X)\n",
    "        \n",
    "        # X = X.values  # Convert DataFrame to numpy array\n",
    "        if self.classes == 7:\n",
    "            new_y = np.array([self.dict_7classes[k] for k in y])\n",
    "            y = new_y\n",
    "        elif self.classes == 2:\n",
    "            new_y = np.array([self.dict_2classes[k] for k in y])\n",
    "            y = new_y\n",
    "        else:\n",
    "            y = y.values\n",
    "        y_encoded = self.label_encoder.fit_transform(y)\n",
    "        self.X, self.y = torch.tensor(X, dtype=torch.float32), torch.tensor(y_encoded, dtype=torch.long)\n",
    "\n",
    "    def __len__(self):\n",
    "        return len(self.X)\n",
    "\n",
    "    def __getitem__(self, idx):\n",
    "        return self.X[idx], self.y[idx]\n",
    "        \n"
   ],
   "metadata": {
    "collapsed": false,
    "ExecuteTime": {
     "end_time": "2024-06-04T08:59:59.079916Z",
     "start_time": "2024-06-04T08:59:59.068410800Z"
    }
   },
   "id": "70d923178dc7ba3d"
  },
  {
   "cell_type": "markdown",
   "source": [
    "## Define the custom neural network"
   ],
   "metadata": {
    "collapsed": false
   },
   "id": "990db8b0a4469774"
  },
  {
   "cell_type": "code",
   "execution_count": 89,
   "outputs": [],
   "source": [
    "from torch.nn.utils import parameters_to_vector\n",
    "\n",
    "class CustomClassifier(nn.Module):\n",
    "    def __init__(self, input_dim, hidden_size, output_dim):\n",
    "        super(CustomClassifier, self).__init__()\n",
    "        self.layer1 = nn.Sequential(\n",
    "            nn.Linear(input_dim, hidden_size),\n",
    "            nn.ReLU(),\n",
    "            nn.BatchNorm1d(hidden_size),\n",
    "            nn.Dropout(0.3)\n",
    "        )\n",
    "        self.output_layer = nn.Linear(hidden_size, output_dim)\n",
    "    \n",
    "    def forward(self, x):\n",
    "        x = self.layer1(x)\n",
    "        x = self.output_layer(x)\n",
    "        return x\n",
    "\n"
   ],
   "metadata": {
    "collapsed": false,
    "ExecuteTime": {
     "end_time": "2024-06-04T08:59:59.095918400Z",
     "start_time": "2024-06-04T08:59:59.081917500Z"
    }
   },
   "id": "47bc814b13e11ca2"
  },
  {
   "cell_type": "markdown",
   "source": [
    "## Initialise dataset, model, loss, optimiser and "
   ],
   "metadata": {
    "collapsed": false
   },
   "id": "28d13d34a383d114"
  },
  {
   "cell_type": "code",
   "execution_count": 90,
   "outputs": [
    {
     "name": "stdout",
     "output_type": "stream",
     "text": [
      "Neuron count: 340002\n"
     ]
    }
   ],
   "source": [
    "from sklearn.utils.class_weight import compute_class_weight\n",
    "# Determine the model sizes\n",
    "dim_check_dataset = pd.read_csv(DATASET_DIR + '/' + df_sets[0])\n",
    "input_size = dim_check_dataset[X_columns].shape[1]  # ANN input size is count of variables\n",
    "hidden_size = 4096\n",
    "output_size = len(dim_check_dataset[y_column].unique())  # Output size is number of possible labels\n",
    "del dim_check_dataset\n",
    "\n",
    "\n",
    "label_encoder = LabelEncoder()\n",
    "label_encoder.fit(classes)\n",
    "# Transform the classes to ensure they are in the same order as used by LabelEncoder\n",
    "encoded_classes = label_encoder.transform(classes)\n",
    "\n",
    "# Compute class weights using sklearn\n",
    "class_weights = compute_class_weight(class_weight='balanced', classes=encoded_classes, y=np.repeat(encoded_classes, counts))\n",
    "class_weights_tensor = torch.tensor(class_weights, dtype=torch.float).to(DEVICE)\n",
    "# Define the model, loss function, and optimizer\n",
    "model = CustomClassifier(input_size, hidden_size, output_size).to(DEVICE)\n",
    "print(f\"Neuron count: {parameters_to_vector(model.parameters()).numel()}\")\n",
    "criterion = nn.CrossEntropyLoss()#(weight=class_weights_tensor)\n",
    "optimizer = optim.Adam(model.parameters())\n",
    "\n",
    "\n",
    "pass\n",
    "BATCH_SIZE = 10000\n",
    "\n"
   ],
   "metadata": {
    "collapsed": false,
    "ExecuteTime": {
     "end_time": "2024-06-04T09:00:02.150658100Z",
     "start_time": "2024-06-04T08:59:59.097917Z"
    }
   },
   "id": "3c88c3a31c46ce75"
  },
  {
   "cell_type": "markdown",
   "source": [
    "## Main training loop\n",
    "The data is read every iteration due to the weight of the whole data not being able to fit to memory at the same time"
   ],
   "metadata": {
    "collapsed": false
   },
   "id": "7d5dac3a205e45e5"
  },
  {
   "metadata": {
    "ExecuteTime": {
     "end_time": "2024-06-04T09:10:43.450953200Z",
     "start_time": "2024-06-04T09:00:02.151658200Z"
    }
   },
   "cell_type": "code",
   "source": [
    "# num_epochs = len(df_sets)\n",
    "# prev_loss = float('inf')\n",
    "\n",
    "model.train()\n",
    "for i, train_i in enumerate(tqdm(train_indexes)):  # Example number of epochs\n",
    "    train_dataset = CustomDataset(df_sets[train_i], X_columns, y_column, scaler, label_encoder, dict_7classes, dict_2classes, CLASSES)\n",
    "    train_loader = DataLoader(train_dataset, batch_size=BATCH_SIZE, shuffle=True, num_workers=0)  # Adjust num_workers based on your system\n",
    "    running_loss = 0.0\n",
    "\n",
    "    for inputs, targets in train_loader:\n",
    "        inputs, targets = inputs.to(DEVICE), targets.to(DEVICE)  # Move data to GPU\n",
    "        optimizer.zero_grad()\n",
    "        outputs = model(inputs)\n",
    "        loss = criterion(outputs, targets)\n",
    "        loss.backward()\n",
    "        optimizer.step()\n",
    "\n",
    "        running_loss += loss.item() * inputs.size(0)\n",
    "    \n",
    "    # if (train_i+1) % (len(train_dataset)//10) == 0:\n",
    "    tqdm.write(f\"Epoch {i + 1}, Loss: {running_loss / len(train_loader)}\")\n",
    "        \n",
    "\n"
   ],
   "id": "8333e82f5deb1c38",
   "outputs": [
    {
     "data": {
      "text/plain": "  0%|          | 0/135 [00:00<?, ?it/s]",
      "application/vnd.jupyter.widget-view+json": {
       "version_major": 2,
       "version_minor": 0,
       "model_id": "1b7ceb249d924eaf87873ea9b0971257"
      }
     },
     "metadata": {},
     "output_type": "display_data"
    },
    {
     "name": "stdout",
     "output_type": "stream",
     "text": [
      "Epoch 1, Loss: 11864.687418937683\n",
      "Epoch 2, Loss: 6017.51653767174\n",
      "Epoch 3, Loss: 5564.787859389657\n",
      "Epoch 4, Loss: 5158.420526121792\n",
      "Epoch 5, Loss: 5258.947323128581\n",
      "Epoch 6, Loss: 5248.087255779065\n",
      "Epoch 7, Loss: 4849.22476648149\n",
      "Epoch 8, Loss: 4977.637293948068\n",
      "Epoch 9, Loss: 4962.772050405803\n",
      "Epoch 10, Loss: 4704.973286628723\n",
      "Epoch 11, Loss: 4637.847680065367\n",
      "Epoch 12, Loss: 4791.621012785218\n",
      "Epoch 13, Loss: 4915.911040808025\n",
      "Epoch 14, Loss: 4712.049016012086\n",
      "Epoch 15, Loss: 4755.465965951744\n",
      "Epoch 16, Loss: 4674.170651705642\n",
      "Epoch 17, Loss: 4666.573345485486\n",
      "Epoch 18, Loss: 4745.5014170044\n",
      "Epoch 19, Loss: 4587.484572347667\n",
      "Epoch 20, Loss: 4473.872243281868\n",
      "Epoch 21, Loss: 4710.284471647607\n",
      "Epoch 22, Loss: 4319.965055542333\n",
      "Epoch 23, Loss: 4632.592209866643\n",
      "Epoch 24, Loss: 4270.142641710608\n",
      "Epoch 25, Loss: 4381.176530285886\n",
      "Epoch 26, Loss: 4721.4146885441405\n",
      "Epoch 27, Loss: 4303.025674819946\n",
      "Epoch 28, Loss: 4357.81548853053\n",
      "Epoch 29, Loss: 4300.930353648133\n",
      "Epoch 30, Loss: 4643.570333565536\n",
      "Epoch 31, Loss: 4575.430450858341\n",
      "Epoch 32, Loss: 4281.998044741781\n",
      "Epoch 33, Loss: 4423.241409971601\n",
      "Epoch 34, Loss: 4552.0776178083925\n",
      "Epoch 35, Loss: 4548.293505123684\n",
      "Epoch 36, Loss: 5164.325559766669\n",
      "Epoch 37, Loss: 4582.861358594894\n",
      "Epoch 38, Loss: 4457.441680365138\n",
      "Epoch 39, Loss: 4052.9215226113797\n",
      "Epoch 40, Loss: 4458.724151039123\n",
      "Epoch 41, Loss: 4264.065511935287\n",
      "Epoch 42, Loss: 4248.827056509256\n",
      "Epoch 43, Loss: 4363.6624468251275\n",
      "Epoch 44, Loss: 4499.588376032679\n",
      "Epoch 45, Loss: 4345.988865420932\n",
      "Epoch 46, Loss: 4271.201976209879\n",
      "Epoch 47, Loss: 4210.502734321356\n",
      "Epoch 48, Loss: 4136.873388114301\n",
      "Epoch 49, Loss: 3963.4372161984443\n",
      "Epoch 50, Loss: 4341.325567815039\n",
      "Epoch 51, Loss: 4048.695984975858\n",
      "Epoch 52, Loss: 4404.509530146916\n",
      "Epoch 53, Loss: 4395.822254883616\n",
      "Epoch 54, Loss: 4251.551508781585\n",
      "Epoch 55, Loss: 4273.478844404221\n",
      "Epoch 56, Loss: 4234.647470253706\n",
      "Epoch 57, Loss: 4227.835179471307\n",
      "Epoch 58, Loss: 4396.136404262648\n",
      "Epoch 59, Loss: 4145.328132084438\n",
      "Epoch 60, Loss: 4239.569887676173\n",
      "Epoch 61, Loss: 4096.697519895193\n",
      "Epoch 62, Loss: 4169.965096074343\n",
      "Epoch 63, Loss: 4469.690814143733\n",
      "Epoch 64, Loss: 3883.355589712921\n",
      "Epoch 65, Loss: 4085.0033205402524\n",
      "Epoch 66, Loss: 4269.999963654413\n",
      "Epoch 67, Loss: 4191.364890313149\n",
      "Epoch 68, Loss: 4214.005788771729\n",
      "Epoch 69, Loss: 4250.461446944036\n",
      "Epoch 70, Loss: 4347.256455951929\n",
      "Epoch 71, Loss: 4156.850085484982\n",
      "Epoch 72, Loss: 4572.389847636223\n",
      "Epoch 73, Loss: 4346.651244878769\n",
      "Epoch 74, Loss: 4281.929094887915\n",
      "Epoch 75, Loss: 4265.355261863981\n",
      "Epoch 76, Loss: 4285.54900528325\n",
      "Epoch 77, Loss: 4043.186683887527\n",
      "Epoch 78, Loss: 4210.667135161161\n",
      "Epoch 79, Loss: 4218.798578447766\n",
      "Epoch 80, Loss: 4080.787027478218\n",
      "Epoch 81, Loss: 4220.899292923902\n",
      "Epoch 82, Loss: 4277.520951697701\n",
      "Epoch 83, Loss: 4223.070425209246\n",
      "Epoch 84, Loss: 4321.057629334927\n",
      "Epoch 85, Loss: 4203.01234987047\n",
      "Epoch 86, Loss: 4336.050531174007\n",
      "Epoch 87, Loss: 4357.855790842147\n",
      "Epoch 88, Loss: 4056.5010347479865\n",
      "Epoch 89, Loss: 3840.9507055729628\n",
      "Epoch 90, Loss: 4261.302269372073\n",
      "Epoch 91, Loss: 4247.998878198862\n",
      "Epoch 92, Loss: 4114.317470699549\n",
      "Epoch 93, Loss: 3985.639507787095\n",
      "Epoch 94, Loss: 4342.408904591202\n",
      "Epoch 95, Loss: 4029.711271971464\n",
      "Epoch 96, Loss: 4140.742072741191\n",
      "Epoch 97, Loss: 4004.4721575260164\n",
      "Epoch 98, Loss: 4145.391262430894\n",
      "Epoch 99, Loss: 4182.07050037384\n",
      "Epoch 100, Loss: 4077.6225406497715\n",
      "Epoch 101, Loss: 4287.852784676211\n",
      "Epoch 102, Loss: 3842.3656900723777\n",
      "Epoch 103, Loss: 4198.414260854593\n",
      "Epoch 104, Loss: 4449.8626184212535\n",
      "Epoch 105, Loss: 4067.1103915207914\n",
      "Epoch 106, Loss: 4072.8147873282433\n",
      "Epoch 107, Loss: 4557.470626005104\n",
      "Epoch 108, Loss: 4267.147339534428\n",
      "Epoch 109, Loss: 4165.998999805827\n",
      "Epoch 110, Loss: 4032.9363319158556\n",
      "Epoch 111, Loss: 4345.8801209926605\n",
      "Epoch 112, Loss: 4265.154348364473\n",
      "Epoch 113, Loss: 4038.289658390813\n",
      "Epoch 114, Loss: 4011.7236514318556\n",
      "Epoch 115, Loss: 3910.402219494184\n",
      "Epoch 116, Loss: 3932.3259295209036\n",
      "Epoch 117, Loss: 4071.1496296242663\n",
      "Epoch 118, Loss: 4080.004796385765\n",
      "Epoch 119, Loss: 4025.061823129654\n",
      "Epoch 120, Loss: 3884.4550719923445\n",
      "Epoch 121, Loss: 3926.4680121572396\n",
      "Epoch 122, Loss: 3775.273650199175\n",
      "Epoch 123, Loss: 3783.9504063631357\n",
      "Epoch 124, Loss: 4103.669833073491\n",
      "Epoch 125, Loss: 4113.753620829847\n",
      "Epoch 126, Loss: 3885.7202537436233\n",
      "Epoch 127, Loss: 3925.705949959002\n",
      "Epoch 128, Loss: 4087.8928168614707\n",
      "Epoch 129, Loss: 3904.6707143595345\n",
      "Epoch 130, Loss: 4103.822853988723\n",
      "Epoch 131, Loss: 3946.4307715014406\n",
      "Epoch 132, Loss: 3928.4694861570993\n",
      "Epoch 133, Loss: 3854.429797688046\n",
      "Epoch 134, Loss: 3861.5355433589884\n",
      "Epoch 135, Loss: 3733.0224272514643\n"
     ]
    }
   ],
   "execution_count": 91
  },
  {
   "cell_type": "markdown",
   "source": [
    "## Evaluation"
   ],
   "metadata": {
    "collapsed": false
   },
   "id": "dfeaffa2aed3713"
  },
  {
   "metadata": {
    "ExecuteTime": {
     "end_time": "2024-06-04T09:13:20.524585800Z",
     "start_time": "2024-06-04T09:10:43.456953900Z"
    }
   },
   "cell_type": "code",
   "source": [
    "from sklearn.metrics import accuracy_score, precision_recall_fscore_support, confusion_matrix\n",
    "pass\n",
    "model.eval()  # Set the model to evaluation mode\n",
    "val_losses = []\n",
    "true_labels = []\n",
    "pred_labels = []\n",
    "\n",
    "with torch.no_grad():\n",
    "    for test_i in tqdm(test_indexes):\n",
    "        test_dataset = CustomDataset(df_sets[test_i], X_columns, y_column, scaler, label_encoder, dict_7classes, dict_2classes, CLASSES)\n",
    "        test_loader = DataLoader(test_dataset, batch_size=BATCH_SIZE, shuffle=True, num_workers=0)  # Adjust num_workers based on your system\n",
    "\n",
    "        for inputs, targets in test_loader:\n",
    "            inputs, targets = inputs.to(DEVICE), targets.to(DEVICE)\n",
    "            outputs = model(inputs)\n",
    "            loss = criterion(outputs, targets)\n",
    "            val_losses.append(loss.item())\n",
    "            \n",
    "            # Convert logits to class predictions\n",
    "            _, predicted = torch.max(outputs, 1)\n",
    "            \n",
    "            true_labels.extend(targets.tolist())\n",
    "            pred_labels.extend(predicted.tolist())\n",
    "    \n",
    "accuracy = accuracy_score(true_labels, pred_labels)\n",
    "precision, recall, f1, _ = precision_recall_fscore_support(true_labels, pred_labels, average='macro')\n",
    "conf_matrix = confusion_matrix(true_labels, pred_labels)\n",
    "\n",
    "print(f'Validation Loss: {np.mean(val_losses):.4f}')\n",
    "print(f'Accuracy: {accuracy:.4f}')\n",
    "print(f'Precision: {precision:.4f}')\n",
    "print(f'Recall: {recall:.4f}')\n",
    "print(f'F1 Score: {f1:.4f}')\n",
    "print('Confusion Matrix:')\n",
    "print(conf_matrix)\n",
    "\n",
    "from uuid import uuid4\n",
    "import inspect\n",
    "current_uuid = str(uuid4())\n",
    "print(f\"Saving model with uuid {current_uuid}\")\n",
    "# TODO - improve the writeout (include seed if set, include parameters e.g. hidden_layer sizes etc etc)\n",
    "with open(f'results/{current_uuid}', 'w') as f:\n",
    "    if SEED:\n",
    "        f.write(f'SEED was set: {SEED}\\n')\n",
    "    f.write(f'Input, Hidden and Output: {input_size}, {hidden_size}, {output_size}')\n",
    "    f.write(f'\\n\\nValidation Loss: {np.mean(val_losses):.4f}\\nAccuracy: {accuracy:.4f}\\nPrecision: {precision:.4f}\\nRecall: {recall:.4f}\\nF1 Score: {f1:.4f}\\n\\n')\n",
    "    # Hacky way of saving the model class for reuse\n",
    "    v = vars(model.__class__)\n",
    "    methods = [name for name, attr in v.items() if inspect.isfunction(attr)]\n",
    "    f.write('class CustomClassifier(nn.Module):\\n')\n",
    "    for m in methods:\n",
    "        f.write(inspect.getsource(getattr(model, m)))"
   ],
   "id": "73e44369e4cf6bb9",
   "outputs": [
    {
     "data": {
      "text/plain": "  0%|          | 0/33 [00:00<?, ?it/s]",
      "application/vnd.jupyter.widget-view+json": {
       "version_major": 2,
       "version_minor": 0,
       "model_id": "aae68acb4c784361829148bd264c3e04"
      }
     },
     "metadata": {},
     "output_type": "display_data"
    },
    {
     "name": "stdout",
     "output_type": "stream",
     "text": [
      "Validation Loss: 0.4759\n",
      "Accuracy: 0.8085\n",
      "Precision: 0.7798\n",
      "Recall: 0.7238\n",
      "F1 Score: 0.7399\n",
      "Confusion Matrix:\n",
      "[[ 153787    2284      19      27       5   23868   18441   14615]\n",
      " [   5695   94111       0       0       0   55598    6618   51024]\n",
      " [     84      14 2488883   59443     637    6855     501     135]\n",
      " [      7       0  484961  365179     330    1589      86      32]\n",
      " [      9       6    1740     185  636351     615     195      37]\n",
      " [  31242   27216   10732    1525     138  805174   18992  170211]\n",
      " [  20073    7689      69      47      28   33626  285158   79402]\n",
      " [  18431   21559    2001     222      65  164164   43946 1027888]]\n",
      "Saving model with uuid febd4843-bdd8-401d-ae28-13184a789348\n"
     ]
    }
   ],
   "execution_count": 92
  },
  {
   "cell_type": "code",
   "execution_count": 93,
   "outputs": [
    {
     "data": {
      "text/plain": "<Figure size 1200x900 with 2 Axes>",
      "image/png": "[encoded data removed]"
     },
     "metadata": {},
     "output_type": "display_data"
    }
   ],
   "source": [
    "import matplotlib.pyplot as plt\n",
    "import seaborn as sns\n",
    "\n",
    "class_names = label_encoder.classes_\n",
    "plt.figure(figsize=(12, 9))\n",
    "sns.heatmap(conf_matrix, annot=True, fmt='d', cmap='Blues', xticklabels=class_names, yticklabels=class_names)\n",
    "plt.xlabel('Predicted')\n",
    "plt.ylabel('Actual')\n",
    "plt.title('Confusion Matrix')\n",
    "plt.savefig('confusion_matrix_seaborn.png', dpi=500, bbox_inches='tight')\n",
    "plt.show()\n",
    "\n",
    "# Convert confusion matrix array to a DataFrame\n",
    "cm_df = pd.DataFrame(conf_matrix, index=class_names, columns=class_names)\n",
    "\n",
    "# Export the DataFrame to a CSV file\n",
    "cm_df.to_csv(f'confusion_matrix-{current_uuid}.csv')"
   ],
   "metadata": {
    "collapsed": false,
    "ExecuteTime": {
     "end_time": "2024-06-04T09:13:21.644309900Z",
     "start_time": "2024-06-04T09:13:20.525586Z"
    }
   },
   "id": "778d713860421a77"
  }
 ],
 "metadata": {
  "kernelspec": {
   "display_name": "Python 3",
   "language": "python",
   "name": "python3"
  },
  "language_info": {
   "codemirror_mode": {
    "name": "ipython",
    "version": 2
   },
   "file_extension": ".py",
   "mimetype": "text/x-python",
   "name": "python",
   "nbconvert_exporter": "python",
   "pygments_lexer": "ipython2",
   "version": "2.7.6"
  }
 },
 "nbformat": 4,
 "nbformat_minor": 5
}
